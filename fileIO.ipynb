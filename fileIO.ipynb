{
 "cells": [
  {
   "cell_type": "code",
   "execution_count": 3,
   "id": "a44de56e-a533-4333-ab61-089cebbe9145",
   "metadata": {
    "tags": []
   },
   "outputs": [],
   "source": [
    "# 7.2. Reading and Writing Files - https://docs.python.org/3/tutorial/inputoutput.html#reading-and-writing-files"
   ]
  },
  {
   "cell_type": "code",
   "execution_count": 8,
   "id": "3295227f-e9af-41ea-a7f0-817819e6c0af",
   "metadata": {
    "tags": []
   },
   "outputs": [
    {
     "name": "stdout",
     "output_type": "stream",
     "text": [
      "# python-ds-in-jupyterlab\n",
      "Learning Python Data Structure in JupyterLab\n",
      "\n"
     ]
    }
   ],
   "source": [
    "# with keyword closes the file\n",
    "with open('README.md', 'r') as f:\n",
    "    data = f.read()\n",
    "    print(data)"
   ]
  },
  {
   "cell_type": "code",
   "execution_count": 5,
   "id": "6b9d3012-1aac-489c-ad54-c24ab8fc166d",
   "metadata": {
    "tags": []
   },
   "outputs": [
    {
     "name": "stdout",
     "output_type": "stream",
     "text": [
      "# python-ds-in-jupyterlab\n",
      "\n",
      "Learning Python Data Structure in JupyterLab\n",
      "\n"
     ]
    }
   ],
   "source": [
    "with open('README.md') as f:\n",
    "    for line in f:\n",
    "        print(line)"
   ]
  },
  {
   "cell_type": "code",
   "execution_count": 21,
   "id": "5a0d863e-795c-44f8-bb01-ce529e4c6a5c",
   "metadata": {
    "tags": []
   },
   "outputs": [
    {
     "name": "stdout",
     "output_type": "stream",
     "text": [
      "current position: 0\n",
      "python-ds-in-jupyterlab\n",
      "Learning Python Data Structure in JupyterLab\n",
      "\n"
     ]
    }
   ],
   "source": [
    "with open('README.md') as f:\n",
    "    print(\"current position: \" + str(f.tell()))\n",
    "    # change offset\n",
    "    f.seek(2)\n",
    "    print(f.read())\n",
    "    "
   ]
  },
  {
   "cell_type": "code",
   "execution_count": null,
   "id": "b80b7504-6c3f-44f4-bd63-782009972ffe",
   "metadata": {},
   "outputs": [],
   "source": []
  }
 ],
 "metadata": {
  "kernelspec": {
   "display_name": "Python 3 (ipykernel)",
   "language": "python",
   "name": "python3"
  },
  "language_info": {
   "codemirror_mode": {
    "name": "ipython",
    "version": 3
   },
   "file_extension": ".py",
   "mimetype": "text/x-python",
   "name": "python",
   "nbconvert_exporter": "python",
   "pygments_lexer": "ipython3",
   "version": "3.9.13"
  }
 },
 "nbformat": 4,
 "nbformat_minor": 5
}
